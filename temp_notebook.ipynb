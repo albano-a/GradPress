{
 "cells": [
  {
   "cell_type": "code",
   "execution_count": null,
   "metadata": {},
   "outputs": [],
   "source": [
    "import numpy as np\n",
    "import matplotlib.pyplot as plt\n",
    "import pandas as pd\n",
    "from numpy.linalg import inv\n",
    "\n",
    "# importing files\n",
    "filename = 'uploads/Pressao.csv'\n",
    "pressao_df = pd.read_csv(filename, delimiter=';')\n",
    "pressao_df = pressao_df.dropna(subset=['Prof./Intv.(m)', 'Pressão de Formação (Kgf/cm2)'])\n",
    "pressao_df"
   ]
  },
  {
   "cell_type": "code",
   "execution_count": 5,
   "metadata": {},
   "outputs": [
    {
     "data": {
      "text/plain": [
       "33"
      ]
     },
     "execution_count": 5,
     "metadata": {},
     "output_type": "execute_result"
    }
   ],
   "source": [
    "100 // 3"
   ]
  },
  {
   "cell_type": "code",
   "execution_count": 104,
   "metadata": {},
   "outputs": [
    {
     "data": {
      "text/plain": [
       "'Tipo'"
      ]
     },
     "execution_count": 104,
     "metadata": {},
     "output_type": "execute_result"
    }
   ],
   "source": [
    "filename = 'uploads/pressao_1_OGX_93_MA.csv'\n",
    "pressao_ogx_93_ma = pd.read_csv(filename, delimiter=';')\n",
    "pressao_ogx_93_ma = pressao_ogx_93_ma.dropna(subset=['Prof./Intv.(m)', 'Pressão de\\nFormação\\n(Kgf/cm2)'])"
   ]
  },
  {
   "cell_type": "code",
   "execution_count": null,
   "metadata": {},
   "outputs": [],
   "source": [
    "def plot_pressao(x, y, title, xlabel, ylabel):\n",
    "    plt.plot(x, y, 'o')\n",
    "    plt.gca().invert_yaxis()\n",
    "    plt.title(title)\n",
    "    plt.xlabel(xlabel)\n",
    "    plt.ylabel(ylabel)\n",
    "    plt.grid()\n",
    "    plt.show()\n",
    "\n",
    "plot_pressao(x=pressao_df['Pressão de Formação (Kgf/cm2)'],\n",
    "             y=pressao_df['Prof./Intv.(m)'],\n",
    "             title='Pressão de Formação x Profundidade',\n",
    "             xlabel='Pressão de Formação (Kgf/cm2)',\n",
    "             ylabel='Profundidade (m)')"
   ]
  },
  {
   "cell_type": "code",
   "execution_count": 95,
   "metadata": {},
   "outputs": [
    {
     "name": "stdout",
     "output_type": "stream",
     "text": [
      "y = 128.41874721554083 + 9.436193531141416x\n"
     ]
    }
   ],
   "source": [
    "def inv_polynomial(dobs, degree, x):\n",
    "    \"\"\"\n",
    "    Funcao para calcular os parâmetros de uma regressao polinomial\n",
    "    Dados de entrada:\n",
    "        d = dados observados\n",
    "        degree = grau do polinomio\n",
    "        x = valores das posicoes onde d foi medido, tem que ter a mesma dimensao de d\n",
    "\n",
    "    Output:\n",
    "        m = parametros\n",
    "        G = matriz de modelagem direta\n",
    "    \"\"\"\n",
    "    nl = max(np.shape(dobs))\n",
    "\n",
    "    G = np.ones((nl,1))\n",
    "    for pw in range(1,degree+1):\n",
    "\n",
    "        G = np.c_[G, x**pw ]\n",
    "\n",
    "    m = np.dot(np.dot(inv(np.dot(G.T,G)),G.T), dobs)\n",
    "\n",
    "    return m, G\n",
    "\n",
    "m, G = inv_polynomial(dobs=pressao_ogx_93_ma['Prof./Intv.(m)'], degree=1, x=pressao_ogx_93_ma['Pressão de\\nFormação\\n(Kgf/cm2)'])\n",
    "print(f\"y = {m[0]:.2f} + {m[1]:.2f}x\")"
   ]
  },
  {
   "cell_type": "code",
   "execution_count": 96,
   "metadata": {},
   "outputs": [
    {
     "data": {
      "text/plain": [
       "1      798.388488\n",
       "2      836.133262\n",
       "3      892.750423\n",
       "4     1109.782874\n",
       "5     1119.219068\n",
       "9     1138.091455\n",
       "10    1175.836229\n",
       "11    1213.581003\n",
       "12    1223.017197\n",
       "Name: Pressão de\\nFormação\\n(Kgf/cm2), dtype: float64"
      ]
     },
     "execution_count": 96,
     "metadata": {},
     "output_type": "execute_result"
    }
   ],
   "source": [
    "# prof =-10.23 + 0.11*pressao_formacao\n",
    "profundidade_calculada = m[0] + m[1]*pressao_ogx_93_ma['Pressão de\\nFormação\\n(Kgf/cm2)']\n",
    "profundidade_calculada"
   ]
  },
  {
   "cell_type": "code",
   "execution_count": null,
   "metadata": {},
   "outputs": [],
   "source": [
    "plt.plot(pressao_formacao, prof, 'o')\n",
    "plt.plot(pressao_formacao, profundidade_calculada, '--r' )\n",
    "plt.gca().invert_yaxis()"
   ]
  },
  {
   "cell_type": "code",
   "execution_count": null,
   "metadata": {},
   "outputs": [],
   "source": []
  }
 ],
 "metadata": {
  "kernelspec": {
   "display_name": "Python 3",
   "language": "python",
   "name": "python3"
  },
  "language_info": {
   "codemirror_mode": {
    "name": "ipython",
    "version": 3
   },
   "file_extension": ".py",
   "mimetype": "text/x-python",
   "name": "python",
   "nbconvert_exporter": "python",
   "pygments_lexer": "ipython3",
   "version": "3.12.0"
  }
 },
 "nbformat": 4,
 "nbformat_minor": 2
}
