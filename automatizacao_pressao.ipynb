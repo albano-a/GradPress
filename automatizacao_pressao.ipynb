{
 "cells": [
  {
   "cell_type": "code",
   "execution_count": 3,
   "id": "082de896",
   "metadata": {},
   "outputs": [],
   "source": [
    "import numpy as np\n",
    "import pandas as pd\n",
    "import matplotlib.pyplot as plt\n",
    "from sklearn.cluster import KMeans"
   ]
  },
  {
   "cell_type": "code",
   "execution_count": 4,
   "id": "e094a0d6",
   "metadata": {},
   "outputs": [],
   "source": [
    "prof = [-1236.50,\n",
    "-1245.50,\n",
    "-1251.00,\n",
    "-1255.50,\n",
    "-1260.30,\n",
    "-1265.00,\n",
    "-1267.00,\n",
    "-1269.50,\n",
    "-1274.00,\n",
    "-1280.00\n",
    " ]\n",
    "#profundidade"
   ]
  },
  {
   "cell_type": "code",
   "execution_count": 5,
   "id": "6a70021e",
   "metadata": {},
   "outputs": [],
   "source": [
    "pressao = [2026.35,\n",
    "2027.77,\n",
    "2029.19,\n",
    "2029.19,\n",
    "2030.62,\n",
    "2032.04,\n",
    "2034.88,\n",
    "2039.15,\n",
    "2044.84,\n",
    "2056.21\n",
    "]\n",
    "#pressão"
   ]
  },
  {
   "cell_type": "code",
   "execution_count": 6,
   "id": "4a23015c",
   "metadata": {},
   "outputs": [
    {
     "data": {
      "text/plain": [
       "0.0"
      ]
     },
     "execution_count": 6,
     "metadata": {},
     "output_type": "execute_result"
    }
   ],
   "source": [
    "\n",
    "fluid_pressure = {}\n",
    "fluid_pressure[\"dry_gas_zero\"] = {\"name\":\"Dry gas zero\",\"gradient\":{\"psi/ft\":0.0,\"psi/m\":0.0,\"kgf/cm2/m\":0.0,\"bar/m\":0.0}}\n",
    "#fluid_pressure[\"dry_gas\"] = {\"name\":\"Dry gas\",\"gradient\":{\"psi/ft\":0.100,\"psi/m\":0.328,\"kgf/cm2/m\":0.023,\"bar/m\":0.022}}\n",
    "fluid_pressure[\"dry_gas\"] = {\"name\":\"Dry gas\",\"gradient\":{\"psi/ft\":0.0,\"psi/m\":0.0,\"kgf/cm2/m\":0.0,\"bar/m\":0.0}}\n",
    "fluid_pressure[\"wet_gas\"] = {\"name\":\"Wet gas\",\"gradient\":{\"psi/ft\":0.140,\"psi/m\":0.459,\"kgf/cm2/m\":0.030,\"bar/m\":0.032}}\n",
    "fluid_pressure[\"oil_limit\"] = {\"name\":\"Oil limit\",\"gradient\":{\"psi/ft\":0.300,\"psi/m\":0.984,\"kgf/cm2/m\":0.069,\"bar/m\":0.069}}\n",
    "fluid_pressure[\"oil_60\"] = {\"name\":\"Oil 60°\",\"gradient\":{\"psi/ft\":0.387,\"psi/m\":1.270,\"kgf/cm2/m\":0.089,\"bar/m\":0.087}}\n",
    "fluid_pressure[\"oil_20\"] = {\"name\":\"Oil 20° (heavy)\",\"gradient\":{\"psi/ft\":0.404,\"psi/m\":1.325,\"kgf/cm2/m\":0.093,\"bar/m\":0.091}}\n",
    "fluid_pressure[\"fresh_water\"] = {\"name\":\"Fresh water\",\"gradient\":{\"psi/ft\":0.433,\"psi/m\":1.421,\"kgf/cm2/m\":0.100,\"bar/m\":0.098}}\n",
    "fluid_pressure[\"sea_water\"] = {\"name\":\"Sea Water\",\"gradient\":{\"psi/ft\":0.444,\"psi/m\":1.457,\"kgf/cm2/m\":0.102,\"bar/m\":0.101}}\n",
    "fluid_pressure[\"salt_sat_water\"] = {\"name\":\"Salt sat. Water\",\"gradient\":{\"psi/ft\":0.520,\"psi/m\":1.706,\"kgf/cm2/m\":0.120,\"bar/m\":0.118}}\n",
    "fluid_pressure[\"salt_max\"] = {\"name\":\"Salt sat. Water Max\",\"gradient\":{\"psi/ft\":100.000,\"psi/m\":100.000,\"kgf/cm2/m\":100.000,\"bar/m\":100.000}}\n",
    "fluid_pressure[\"dry_gas\"][\"gradient\"][\"psi/m\"]\n",
    "\n",
    "# REF: Ryder & Kennedy, 2011"
   ]
  },
  {
   "cell_type": "code",
   "execution_count": 7,
   "id": "c4de469c",
   "metadata": {},
   "outputs": [
    {
     "name": "stdout",
     "output_type": "stream",
     "text": [
      "[0.1577777777778183, 0.2581818181818301, 1.221559650807378e-13, 0.2979166666666674, 0.3021276595744204, 1.4200000000005202, 1.7080000000002276, 1.2644444444444378, 1.8950000000000211]\n"
     ]
    }
   ],
   "source": [
    "def reta(ps_a,ps_b):\n",
    "    val = np.polyfit(ps_a, ps_b, 1)\n",
    "    #print(val[0],val[1])\n",
    "    return val[0]\n",
    "\n",
    "reta(np.array([prof[0],prof[1]]),np.array([pressao[0],pressao[1]]))\n",
    "\n",
    "for i in range(len(prof)-1):\n",
    "    val = reta(np.array([prof[i],prof[i+1]]),np.array([pressao[i],pressao[i+1]]))\n",
    "    print(val*-1)\n"
   ]
  },
  {
   "cell_type": "code",
   "execution_count": 8,
   "id": "b1e4ac9c",
   "metadata": {},
   "outputs": [
    {
     "name": "stdout",
     "output_type": "stream",
     "text": [
      "{0.1577777777778183: [0, 1], 0.2581818181818301: [1, 2], 1.221559650807378e-13: [2, 3], 0.2979166666666674: [3, 4], 0.3021276595744204: [4, 5], 1.4200000000005202: [5, 6], 1.7080000000002276: [6, 7], 1.2644444444444378: [7, 8], 1.8950000000000211: [8, 9]}\n"
     ]
    }
   ],
   "source": [
    "coeficients = {}\n",
    "array_coeficients = []\n",
    "for i in range(len(prof)-1):\n",
    "    val = reta(np.array([prof[i],prof[i+1]]),np.array([pressao[i],pressao[i+1]]))\n",
    "    coeficients[val*(-1.)] = [i,i+1]\n",
    "    array_coeficients.append(val*(-1.))\n",
    "    #print(val*(-1.))\n",
    "\n",
    "print(coeficients)\n",
    "array_coeficients = np.array([array_coeficients,array_coeficients])\n",
    "#print(array_coeficients)\n",
    "kmeans = KMeans(n_clusters=2, random_state=0).fit(array_coeficients.T)"
   ]
  },
  {
   "cell_type": "code",
   "execution_count": 9,
   "id": "5f04e791",
   "metadata": {},
   "outputs": [
    {
     "name": "stdout",
     "output_type": "stream",
     "text": [
      "[1, 1, 1, 1, 1, 1, 0, 0, 0, 0]\n"
     ]
    }
   ],
   "source": [
    "classified_data = [list(kmeans.labels_)[0]]+list(kmeans.labels_)\n",
    "print(classified_data)"
   ]
  },
  {
   "cell_type": "code",
   "execution_count": 10,
   "id": "c1aa906e",
   "metadata": {},
   "outputs": [
    {
     "data": {
      "text/plain": [
       "[0, 0, 0, 0, 0, 0, 1, 1, 1, 1]"
      ]
     },
     "execution_count": 10,
     "metadata": {},
     "output_type": "execute_result"
    }
   ],
   "source": [
    "def conversion(class_data):\n",
    "    new_class_data = []\n",
    "    first_value = classified_data[0]\n",
    "\n",
    "    if first_value == 1:\n",
    "        for i in range(len(classified_data)):\n",
    "            if classified_data[i] == 1:\n",
    "                new_class_data.append(0)\n",
    "            if classified_data[i] == 0:\n",
    "                new_class_data.append(1)\n",
    "\n",
    "        return new_class_data\n",
    "\n",
    "    return class_data\n",
    "\n",
    "conversion(classified_data)"
   ]
  },
  {
   "cell_type": "code",
   "execution_count": null,
   "id": "47047ef1",
   "metadata": {},
   "outputs": [],
   "source": [
    "values_top_p = []\n",
    "values_top_c = []\n",
    "\n",
    "values_bot_p = []\n",
    "values_bot_c = []\n",
    "\n",
    "for i in range(len(classified_data)):\n",
    "    if classified_data[i] == 1:\n",
    "        values_top_p.append(pressao[i])\n",
    "        values_top_c.append(prof[i])\n",
    "    if classified_data[i] == 0:\n",
    "        values_bot_p.append(pressao[i])\n",
    "        values_bot_c.append(prof[i])\n",
    "\n",
    "slope_top, intercept_top = np.polyfit(values_top_c,values_top_p, 1)\n",
    "slope_bot, intercept_bot = np.polyfit(values_bot_c,values_bot_p, 1)\n",
    "\n",
    "plt.plot(values_top_p,values_top_c,'o',c=\"C0\",label='top curve '+str(round(slope_top,4)))\n",
    "plt.plot(values_bot_p,values_bot_c,'o',c=\"C3\",label='bot curve '+str(round(slope_bot,4)))\n",
    "plt.legend()\n",
    "plt.xlabel('Pressão (PSI)')\n",
    "plt.ylabel('Cota (M)')\n",
    "plt.grid()\n",
    "plt.show()"
   ]
  },
  {
   "cell_type": "code",
   "execution_count": 12,
   "id": "f80899bb",
   "metadata": {},
   "outputs": [
    {
     "name": "stdout",
     "output_type": "stream",
     "text": [
      "{'dry_gas': [0.0, 0.459], 'wet_gas': [0.459, 0.984], 'oil_limit': [0.984, 1.27], 'oil_60': [1.27, 1.325], 'oil_20': [1.325, 1.421], 'fresh_water': [1.421, 1.457], 'sea_water': [1.457, 1.706], 'salt_sat_water': [1.706, 100.0]}\n"
     ]
    }
   ],
   "source": [
    "### input usuário da unidade de pressão\n",
    "\n",
    "UP = \"psi/m\" # unidade de pressão\n",
    "\n",
    "ranges = {}\n",
    "\n",
    "fluids = list(fluid_pressure.keys())\n",
    "\n",
    "dict_pressure = {}\n",
    "for i in  range(len(fluid_pressure.keys())-1):\n",
    "    top = fluids[i]\n",
    "    bot = fluids[i+1]\n",
    "    top_value = fluid_pressure[top][\"gradient\"][UP]\n",
    "    bot_value = fluid_pressure[bot][\"gradient\"][UP]\n",
    "    dict_pressure[fluids[i]] = [top_value,bot_value]\n",
    "\n",
    "(k := next(iter(dict_pressure)), dict_pressure.pop(k))\n",
    "print(dict_pressure)"
   ]
  },
  {
   "cell_type": "code",
   "execution_count": 13,
   "id": "6d39e998",
   "metadata": {},
   "outputs": [
    {
     "name": "stdout",
     "output_type": "stream",
     "text": [
      "Dry gas | Sea Water\n"
     ]
    }
   ],
   "source": [
    "fluid_top = 0\n",
    "\n",
    "for fluid in dict_pressure:\n",
    "    if -1.*round(slope_top,4) >= dict_pressure[fluid][0] and -1.*round(slope_top,4) < dict_pressure[fluid][1]:\n",
    "        fluid_top = fluid\n",
    "\n",
    "for fluid in dict_pressure:\n",
    "    if -1.*round(slope_bot,4) >= dict_pressure[fluid][0] and -1.*round(slope_bot,4) < dict_pressure[fluid][1]:\n",
    "        fluid_bot = fluid\n",
    "\n",
    "fluid_top_name = fluid_pressure[fluid_top]['name']\n",
    "fluid_bot_name = fluid_pressure[fluid_bot]['name']\n",
    "\n",
    "print(fluid_top_name,\"|\",fluid_bot_name)\n"
   ]
  },
  {
   "cell_type": "code",
   "execution_count": null,
   "id": "36cabec1",
   "metadata": {},
   "outputs": [],
   "source": [
    "reta_top = slope_top*np.array(values_top_c) + intercept_top\n",
    "reta_bot = slope_bot*np.array(values_bot_c) + intercept_bot\n",
    "\n",
    "\n",
    "plt.plot(values_top_p,values_top_c,'o',c=\"C0\",label=fluid_top_name)\n",
    "plt.plot(values_bot_p,values_bot_c,'o',c=\"C3\",label=fluid_bot_name)\n",
    "\n",
    "plt.plot(reta_top,values_top_c,c=\"C9\",label=fluid_top_name+str(round(slope_top,4)))\n",
    "plt.plot(reta_bot,values_bot_c,c=\"C1\",label=fluid_bot_name+str(round(slope_bot,4)))\n",
    "plt.legend()\n",
    "plt.xlabel('Pressão (PSI)')\n",
    "plt.ylabel('Cota (M)')\n",
    "plt.grid()\n",
    "plt.show()"
   ]
  },
  {
   "cell_type": "code",
   "execution_count": 15,
   "id": "645e6ada",
   "metadata": {},
   "outputs": [
    {
     "name": "stdout",
     "output_type": "stream",
     "text": [
      "O ponto de interseção das retas é -1265.1148220558416 2031.6491590052358\n"
     ]
    }
   ],
   "source": [
    "x_intercept = (intercept_bot - intercept_top) / (slope_top - slope_bot)\n",
    "y_intercept = slope_top * x_intercept + intercept_top\n",
    "print('O ponto de interseção das retas é',x_intercept,y_intercept)"
   ]
  },
  {
   "cell_type": "code",
   "execution_count": 16,
   "id": "02a8babe",
   "metadata": {},
   "outputs": [
    {
     "data": {
      "text/plain": [
       "[-1236.5, -1245.5, -1251.0, -1255.5, -1260.3, -1265.0]"
      ]
     },
     "execution_count": 16,
     "metadata": {},
     "output_type": "execute_result"
    }
   ],
   "source": [
    "values_top_c"
   ]
  },
  {
   "cell_type": "code",
   "execution_count": 17,
   "id": "d7fdf25d",
   "metadata": {},
   "outputs": [
    {
     "name": "stdout",
     "output_type": "stream",
     "text": [
      "[-9.  -5.5 -4.5 -4.8 -4.7]\n"
     ]
    }
   ],
   "source": [
    "diff = np.diff(values_top_c)\n",
    "print(diff)"
   ]
  },
  {
   "cell_type": "code",
   "execution_count": 40,
   "id": "5c2c036e",
   "metadata": {},
   "outputs": [
    {
     "name": "stdout",
     "output_type": "stream",
     "text": [
      "-5.7\n",
      "[-1236.5, -1245.5, -1251.0, -1255.5, -1260.3, -1265.0]\n",
      "[-1236.5, -1245.5, -1251.0, -1255.5, -1260.3, -1265.0, -1270.7]\n",
      "[2026.16542975 2027.89018496 2028.94420203 2029.80657963 2030.72644907\n",
      " 2031.62715457 2032.71949953]\n"
     ]
    }
   ],
   "source": [
    "# Extended top curve\n",
    "\n",
    "mean_cota_top = np.mean(np.diff(values_top_c))\n",
    "print(mean_cota_top)\n",
    "extended_cota_top = list(values_top_c) + [mean_cota_top+np.min(values_top_c)]\n",
    "print(values_top_c)\n",
    "print(extended_cota_top)\n",
    "extended_pressure_top = np.array(extended_cota_top)*slope_top + intercept_top\n",
    "print(extended_pressure_top)"
   ]
  },
  {
   "cell_type": "code",
   "execution_count": 37,
   "id": "431ae89e",
   "metadata": {},
   "outputs": [
    {
     "name": "stdout",
     "output_type": "stream",
     "text": [
      "-4.333333333333333\n",
      "-1267.0\n",
      "[-1267.0, -1269.5, -1274.0, -1280.0]\n",
      "[-1262.6666666666667, -1267.0, -1269.5, -1274.0, -1280.0]\n",
      "[2027.6980273  2034.69168906 2038.72649392 2045.98914267 2055.67267434]\n"
     ]
    }
   ],
   "source": [
    "# Extended bot curve\n",
    "\n",
    "mean_cota_bot = np.mean(np.diff(values_bot_c))\n",
    "print(mean_cota_bot)\n",
    "print(np.max(values_bot_c))\n",
    "extended_cota_bot =  [(np.max(values_bot_c) - mean_cota_bot)] + list(values_bot_c)\n",
    "print(values_bot_c)\n",
    "print(extended_cota_bot)\n",
    "extended_pressure_bot = np.array(extended_cota_bot)*slope_bot + intercept_bot\n",
    "print(extended_pressure_bot)"
   ]
  },
  {
   "cell_type": "code",
   "execution_count": null,
   "id": "b940a1ac",
   "metadata": {},
   "outputs": [],
   "source": [
    "plt.plot(values_top_p,values_top_c,'o',c=\"C0\",label=fluid_top_name)\n",
    "plt.plot(values_bot_p,values_bot_c,'o',c=\"C3\",label=fluid_bot_name)\n",
    "\n",
    "plt.plot(extended_pressure_top,extended_cota_top,c=\"C9\",label=fluid_bot_name+\" \"+str(round(slope_bot,4)))\n",
    "plt.plot(extended_pressure_bot,extended_cota_bot,c=\"C1\",label=fluid_top_name+\" \"+str(round(slope_top,4)))\n",
    "plt.plot(y_intercept,x_intercept,'s',c=\"k\",label=\"Intersection \"+str(round(x_intercept,4)) )\n",
    "\n",
    "plt.legend()\n",
    "plt.xlabel('Pressure (PSI)')\n",
    "plt.ylabel('Level (M)')\n",
    "plt.grid()\n",
    "plt.show()"
   ]
  },
  {
   "cell_type": "code",
   "execution_count": null,
   "id": "92ad6c03",
   "metadata": {},
   "outputs": [],
   "source": []
  }
 ],
 "metadata": {
  "kernelspec": {
   "display_name": "Python 3 (ipykernel)",
   "language": "python",
   "name": "python3"
  },
  "language_info": {
   "codemirror_mode": {
    "name": "ipython",
    "version": 3
   },
   "file_extension": ".py",
   "mimetype": "text/x-python",
   "name": "python",
   "nbconvert_exporter": "python",
   "pygments_lexer": "ipython3",
   "version": "3.12.1"
  }
 },
 "nbformat": 4,
 "nbformat_minor": 5
}
